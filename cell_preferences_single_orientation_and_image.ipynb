{
 "cells": [
  {
   "cell_type": "code",
   "execution_count": 109,
   "metadata": {
    "collapsed": false
   },
   "outputs": [],
   "source": [
    "# WARNING! Be sure to change the line that reads the .csv file, below, should be line 47\n",
    "# If it doesn't work, you'll need to make the path point to your copy of that file (which should be in this folder)\n",
    "\n",
    "# We need to import these modules to get started\n",
    "import numpy as np\n",
    "import pandas as pd\n",
    "import os\n",
    "import sys\n",
    "import matplotlib.pyplot as plt\n",
    "from allensdk.core.brain_observatory_cache import BrainObservatoryCache\n",
    "\n",
    "# The dynamic brain database is on an external hard drive.\n",
    "#drive_path = '/Volumes/Brain2016'\n",
    "drive_path= 'd:'\n",
    "manifest_path = os.path.join(drive_path, 'BrainObservatory/manifest.json')\n",
    "boc = BrainObservatoryCache(manifest_file=manifest_path)\n",
    "expt_containers = boc.get_experiment_containers()\n",
    "\n",
    "# Things I will want eventually:\n",
    "# 1. A dataframe with columns for...\n",
    "#\ta. all the identifiers from the brain observatory\n",
    "#\tb. the preferred directions from the grating and place field stimuli\n",
    "# 2. A numpy array which is N_neurons x N_timesamples, where entry i,j is 1 or 0 based on whether\n",
    "#\t the neuron was \"firing\" at that point (how we decide that we'll get to later\n",
    "\n",
    "# Data frames first:\n",
    "# expt_containers_df = pd.DataFrame(expt_containers)\n",
    "\n",
    "# The stimuli I'm interested in are basically everything except the natural movie and natural scenes\n",
    "# If we want other stimuli, add them here.\n",
    "non_movie_stimuli = ['drifting_gratings', 'locally_sparse_noise', 'spontaneous', 'static_gratings']\n",
    "\n",
    "all_expts_df = pd.DataFrame(boc.get_ophys_experiments(stimuli=non_movie_stimuli))\n",
    "# this has headers:\n",
    "# age_days\tcre_line\texperiment_container_id\tid\timaging_depth\tsession_type\ttargeted_structure\n",
    "\n",
    "# seems like I can use get_cell_speciments to get everything I'm after\n",
    "specimens_df = pd.DataFrame(boc.get_cell_specimens(experiment_container_ids=all_expts_df.experiment_container_id.values))\n",
    "# this has headers:\n",
    "# area\tcell_specimen_id\tdsi_dg\texperiment_container_id\timaging_depth\tosi_dg\tosi_sg\tp_dg\tp_ns\tp_sg\n",
    "# pref_dir_dg\tpref_image_ns\tpref_ori_sg\tpref_phase_sg\tpref_sf_sg\tpref_tf_dg\ttime_to_peak_ns\ttime_to_peak_sg\n",
    "# tld1_id\ttld1_name\ttld2_id\ttld2_name\ttlr1_id\ttlr1_name\n",
    "\n",
    "# There's also a handy bit of data from Saskia, in the form of a measurement called S. See\n",
    "# Decoding Visual Inputs From Multiple Neurons in the Human Temporal Lobe, J. Neurophys 2007, by Quiroga et al\n",
    "\n",
    "\n",
    "selectivity_S_df = pd.read_csv(os.path.join(drive_path, '/BrainObservatory/image_selectivity_dataframe.csv'), index_col=0)\n",
    "selectivity_S_df = selectivity_S_df[['cell_specimen_id', 'selectivity_ns']]\n",
    "\n",
    "specimens_with_selectivity_S = specimens_df.merge(selectivity_S_df,how='outer', on='cell_specimen_id')\n",
    "\n",
    "# This is all cells in VISp that have a value for the specified parameters (i.e not NaN)\n",
    "# Discards rows NaN in the columns specified below.\n",
    "discard_nan = [\n",
    "\t'selectivity_ns',\n",
    "\t'osi_sg',\n",
    "\t'osi_dg',\n",
    "\t'time_to_peak_ns',\n",
    "\t'time_to_peak_sg',\n",
    "]\n",
    "VISp_cells_with_numbers = specimens_with_selectivity_S[specimens_with_selectivity_S.area == 'VISp']\n",
    "for col_name in discard_nan:\n",
    "\tVISp_cells_with_numbers = VISp_cells_with_numbers[np.isnan(VISp_cells_with_numbers[col_name])==False]"
   ]
  },
  {
   "cell_type": "code",
   "execution_count": 110,
   "metadata": {
    "collapsed": false
   },
   "outputs": [
    {
     "data": {
      "text/html": [
       "<div>\n",
       "<table border=\"1\" class=\"dataframe\">\n",
       "  <thead>\n",
       "    <tr style=\"text-align: right;\">\n",
       "      <th></th>\n",
       "      <th>area</th>\n",
       "      <th>cell_specimen_id</th>\n",
       "      <th>dsi_dg</th>\n",
       "      <th>experiment_container_id</th>\n",
       "      <th>imaging_depth</th>\n",
       "      <th>osi_dg</th>\n",
       "      <th>osi_sg</th>\n",
       "      <th>p_dg</th>\n",
       "      <th>p_ns</th>\n",
       "      <th>p_sg</th>\n",
       "      <th>...</th>\n",
       "      <th>pref_tf_dg</th>\n",
       "      <th>time_to_peak_ns</th>\n",
       "      <th>time_to_peak_sg</th>\n",
       "      <th>tld1_id</th>\n",
       "      <th>tld1_name</th>\n",
       "      <th>tld2_id</th>\n",
       "      <th>tld2_name</th>\n",
       "      <th>tlr1_id</th>\n",
       "      <th>tlr1_name</th>\n",
       "      <th>selectivity_ns</th>\n",
       "    </tr>\n",
       "  </thead>\n",
       "  <tbody>\n",
       "    <tr>\n",
       "      <th>381</th>\n",
       "      <td>VISp</td>\n",
       "      <td>517397361</td>\n",
       "      <td>0.697331</td>\n",
       "      <td>511498742</td>\n",
       "      <td>350</td>\n",
       "      <td>1.388875</td>\n",
       "      <td>1.210908</td>\n",
       "      <td>0.000002</td>\n",
       "      <td>3.065294e-18</td>\n",
       "      <td>0.111141</td>\n",
       "      <td>...</td>\n",
       "      <td>1.0</td>\n",
       "      <td>0.33250</td>\n",
       "      <td>0.266</td>\n",
       "      <td>177837516</td>\n",
       "      <td>Scnn1a-Tg3-Cre</td>\n",
       "      <td>177837320</td>\n",
       "      <td>Camk2a-tTA</td>\n",
       "      <td>265943423</td>\n",
       "      <td>Ai93(TITL-GCaMP6f)</td>\n",
       "      <td>0.586288</td>\n",
       "    </tr>\n",
       "    <tr>\n",
       "      <th>382</th>\n",
       "      <td>VISp</td>\n",
       "      <td>517397365</td>\n",
       "      <td>3.640992</td>\n",
       "      <td>511498742</td>\n",
       "      <td>350</td>\n",
       "      <td>0.907149</td>\n",
       "      <td>1.994455</td>\n",
       "      <td>0.002307</td>\n",
       "      <td>2.121158e-13</td>\n",
       "      <td>0.007671</td>\n",
       "      <td>...</td>\n",
       "      <td>1.0</td>\n",
       "      <td>0.29925</td>\n",
       "      <td>0.266</td>\n",
       "      <td>177837516</td>\n",
       "      <td>Scnn1a-Tg3-Cre</td>\n",
       "      <td>177837320</td>\n",
       "      <td>Camk2a-tTA</td>\n",
       "      <td>265943423</td>\n",
       "      <td>Ai93(TITL-GCaMP6f)</td>\n",
       "      <td>0.513627</td>\n",
       "    </tr>\n",
       "  </tbody>\n",
       "</table>\n",
       "<p>2 rows × 25 columns</p>\n",
       "</div>"
      ],
      "text/plain": [
       "     area  cell_specimen_id    dsi_dg  experiment_container_id  imaging_depth  \\\n",
       "381  VISp         517397361  0.697331                511498742            350   \n",
       "382  VISp         517397365  3.640992                511498742            350   \n",
       "\n",
       "       osi_dg    osi_sg      p_dg          p_ns      p_sg      ...        \\\n",
       "381  1.388875  1.210908  0.000002  3.065294e-18  0.111141      ...         \n",
       "382  0.907149  1.994455  0.002307  2.121158e-13  0.007671      ...         \n",
       "\n",
       "     pref_tf_dg  time_to_peak_ns  time_to_peak_sg    tld1_id       tld1_name  \\\n",
       "381         1.0          0.33250            0.266  177837516  Scnn1a-Tg3-Cre   \n",
       "382         1.0          0.29925            0.266  177837516  Scnn1a-Tg3-Cre   \n",
       "\n",
       "       tld2_id   tld2_name    tlr1_id           tlr1_name selectivity_ns  \n",
       "381  177837320  Camk2a-tTA  265943423  Ai93(TITL-GCaMP6f)       0.586288  \n",
       "382  177837320  Camk2a-tTA  265943423  Ai93(TITL-GCaMP6f)       0.513627  \n",
       "\n",
       "[2 rows x 25 columns]"
      ]
     },
     "execution_count": 110,
     "metadata": {},
     "output_type": "execute_result"
    }
   ],
   "source": [
    "VISp_cells_with_numbers.head(2)"
   ]
  },
  {
   "cell_type": "code",
   "execution_count": 111,
   "metadata": {
    "collapsed": false
   },
   "outputs": [
    {
     "name": "stdout",
     "output_type": "stream",
     "text": [
      "Index([                   u'area',        u'cell_specimen_id',\n",
      "                        u'dsi_dg', u'experiment_container_id',\n",
      "                 u'imaging_depth',                  u'osi_dg',\n",
      "                        u'osi_sg',                    u'p_dg',\n",
      "                          u'p_ns',                    u'p_sg',\n",
      "                   u'pref_dir_dg',           u'pref_image_ns',\n",
      "                   u'pref_ori_sg',           u'pref_phase_sg',\n",
      "                    u'pref_sf_sg',              u'pref_tf_dg',\n",
      "               u'time_to_peak_ns',         u'time_to_peak_sg',\n",
      "                       u'tld1_id',               u'tld1_name',\n",
      "                       u'tld2_id',               u'tld2_name',\n",
      "                       u'tlr1_id',               u'tlr1_name',\n",
      "                u'selectivity_ns'],\n",
      "      dtype='object')\n"
     ]
    }
   ],
   "source": [
    "print(VISp_cells_with_numbers.keys())"
   ]
  },
  {
   "cell_type": "code",
   "execution_count": 112,
   "metadata": {
    "collapsed": false
   },
   "outputs": [
    {
     "name": "stdout",
     "output_type": "stream",
     "text": [
      "[  17.   22.   99.   38.  111.   95.    2.   97.  106.   41.  117.   66.\n",
      "  101.   49.  110.   24.   13.   50.   33.  114.   44.   92.   63.   32.\n",
      "   23.   71.  105.    3.   39.   45.   29.   16.   91.   78.   69.  112.\n",
      "   88.   64.   72.   56.   26.    7.   67.   89.  116.   12.  103.   83.\n",
      "  115.   75.    5.   68.   48.   96.   35.   86.    6.   27.   15.  108.\n",
      "   40.   51.  109.   93.   58.   76.   42.    1.   46.   36.   20.   98.\n",
      "  113.   18.   52.   85.    0.   84.   80.   94.   34.   43.   21.   55.\n",
      "   60.   54.  104.   90.   14.   65.   70.   82.   79.   87.   53.    9.\n",
      "   25.   28.    8.   11.  100.   81.   31.   19.  102.   37.   57.   61.\n",
      "   73.   77.   59.   74.   30.   62.   10.  107.    4.]\n"
     ]
    },
    {
     "data": {
      "text/plain": [
       "117"
      ]
     },
     "execution_count": 112,
     "metadata": {},
     "output_type": "execute_result"
    }
   ],
   "source": [
    "print(VISp_cells_with_numbers[\"pref_image_ns\"].unique())\n",
    "len(VISp_cells_with_numbers[\"pref_image_ns\"].unique())"
   ]
  },
  {
   "cell_type": "code",
   "execution_count": 135,
   "metadata": {
    "collapsed": false
   },
   "outputs": [],
   "source": [
    "# very long, uncomment only if you wish to see number of cells that prefer EACH image\n",
    "\n",
    "#print(\"# of total cells according to their preferred image: \")\n",
    "#for image in sorted(VISp_cells_with_numbers[\"pref_image_ns\"].unique()):\n",
    "#    print (\"prefer image #\"+str(int(image))+\":  \"+str(len(VISp_cells_with_numbers\n",
    "#                                         [VISp_cells_with_numbers[\"pref_image_ns\"]==image]))+\" cells\")"
   ]
  },
  {
   "cell_type": "code",
   "execution_count": 154,
   "metadata": {
    "collapsed": false
   },
   "outputs": [
    {
     "name": "stdout",
     "output_type": "stream",
     "text": [
      "cell totals per preferred image group:\n",
      "[2, 2, 3, 4, 4, 4, 5, 6, 7, 7, 8, 8, 8, 8, 9, 10, 10, 11, 11, 12, 12, 12, 12, 13, 14, 14, 14, 15, 16, 16, 16, 17, 17, 17, 17, 17, 17, 17, 18, 20, 20, 20, 20, 21, 21, 21, 21, 22, 23, 23, 23, 24, 24, 24, 24, 25, 25, 26, 26, 26, 27, 27, 27, 28, 28, 28, 29, 30, 30, 30, 30, 30, 32, 32, 32, 33, 34, 34, 35, 35, 36, 37, 37, 37, 37, 37, 38, 38, 38, 39, 39, 40, 41, 42, 48, 49, 49, 49, 51, 51, 52, 52, 56, 62, 63, 63, 64, 64, 65, 65, 66, 67, 72, 74, 79, 83, 83]\n",
      "\n",
      "total cells in all groups:\n",
      "3483\n",
      "\n",
      "largest group of cells:\n",
      "83\n",
      "\n",
      "percent of total cells:\n",
      "0.023830031582 = roughly 2.0%\n",
      "\n",
      "Most preferred image(s):\n",
      "86\n",
      "111\n"
     ]
    }
   ],
   "source": [
    "print(\"cell totals per preferred image group:\") \n",
    "      \n",
    "image_ns_prefs = [len(VISp_cells_with_numbers[VISp_cells_with_numbers[\"pref_image_ns\"]==image]) \n",
    " for image in sorted(VISp_cells_with_numbers[\"pref_image_ns\"].unique())]\n",
    "image_ns_prefs.sort()\n",
    "print(image_ns_prefs) #list of cells\n",
    "print('')\n",
    "\n",
    "print(\"total cells in all groups:\")\n",
    "total_ns_pref = sum(image_ns_prefs)\n",
    "print(total_ns_pref)\n",
    "print('')\n",
    "\n",
    "print(\"largest group of cells:\")\n",
    "max_ns_prefs = np.max(image_ns_prefs) #max number cells with preferred static image\n",
    "print(max_ns_prefs)\n",
    "print('')\n",
    "\n",
    "print(\"percent of total cells:\")\n",
    "per_ns_pref = float(max_ns_prefs)/float(total_ns_pref)\n",
    "print (str(per_ns_pref)+ \" = roughly \"+str(round(per_ns_pref*100))+\"%\")\n",
    "print(\"\")\n",
    "\n",
    "print(\"most preferred image(s):\")\n",
    "for image in sorted(VISp_cells_with_numbers[\"pref_image_ns\"].unique()):\n",
    "    if(((len(VISp_cells_with_numbers[VISp_cells_with_numbers[\"pref_image_ns\"]==image])))==max_ns_prefs):\n",
    "        print(int(image))"
   ]
  },
  {
   "cell_type": "code",
   "execution_count": 120,
   "metadata": {
    "collapsed": false
   },
   "outputs": [
    {
     "name": "stdout",
     "output_type": "stream",
     "text": [
      "List of unique orientations for static gratings: \n",
      "[  60.    0.   30.  120.  150.   90.]\n",
      "\n",
      "# of unique orientations for static gratings: \n",
      "6\n"
     ]
    }
   ],
   "source": [
    "print(\"List of unique orientations for static gratings: \")\n",
    "print(VISp_cells_with_numbers[\"pref_ori_sg\"].unique())\n",
    "print(\"\")\n",
    "print(\"# of unique orientations for static gratings: \")\n",
    "print(len(VISp_cells_with_numbers[\"pref_ori_sg\"].unique()))"
   ]
  },
  {
   "cell_type": "code",
   "execution_count": 121,
   "metadata": {
    "collapsed": false
   },
   "outputs": [
    {
     "name": "stdout",
     "output_type": "stream",
     "text": [
      "# of total cells according to their preferred orientation: \n",
      "prefer 0 degrees: 580 cells\n",
      "prefer 30 degrees: 600 cells\n",
      "prefer 60 degrees: 551 cells\n",
      "prefer 90 degrees: 690 cells\n",
      "prefer 120 degrees: 568 cells\n",
      "prefer 150 degrees: 494 cells\n"
     ]
    }
   ],
   "source": [
    "print(\"# of total cells according to their preferred orientation: \")\n",
    "for orientation in sorted(VISp_cells_with_numbers[\"pref_ori_sg\"].unique()):\n",
    "    print (\"prefer \"+str(int(orientation))+\" degrees: \"+str(len(VISp_cells_with_numbers\n",
    "                                         [VISp_cells_with_numbers[\"pref_ori_sg\"]==orientation]))+\" cells\")"
   ]
  },
  {
   "cell_type": "code",
   "execution_count": 156,
   "metadata": {
    "collapsed": false
   },
   "outputs": [
    {
     "name": "stdout",
     "output_type": "stream",
     "text": [
      "cell totals per preferred orientation group:\n",
      "[494, 551, 568, 580, 600, 690]\n",
      "\n",
      "total cells in all groups:\n",
      "3483\n",
      "\n",
      "largest group of cells:\n",
      "690\n",
      "\n",
      "percent of total cells:\n",
      "0.198105081826 = roughly 20.0%\n",
      "\n",
      "most preferred orientation(s):\n",
      "90.0 degrees\n"
     ]
    }
   ],
   "source": [
    "print(\"cell totals per preferred orientation group:\")\n",
    "\n",
    "ori_sg_prefs = [len(VISp_cells_with_numbers[VISp_cells_with_numbers[\"pref_ori_sg\"]==orientation]) \n",
    " for orientation in sorted(VISp_cells_with_numbers[\"pref_ori_sg\"].unique())]\n",
    "ori_sg_prefs.sort()\n",
    "print(ori_sg_prefs) #list of cells\n",
    "print('')\n",
    "\n",
    "print(\"total cells in all groups:\")\n",
    "total_ori_sg = sum(ori_sg_prefs)\n",
    "print(total_ori_sg)\n",
    "print('')\n",
    "\n",
    "print(\"largest group of cells:\")\n",
    "max_ori_sg = np.max(ori_sg_prefs) #max number cells with preferred static orientation\n",
    "print(max_ori_sg)\n",
    "print('')\n",
    "\n",
    "print(\"percent of total cells:\")\n",
    "per_ori_sg = float(max_ori_sg)/float(total_ori_sg)\n",
    "print (str(per_ori_sg)+\" = roughly \"+str(round(per_ori_sg*100))+\"%\")\n",
    "print(\"\")\n",
    "\n",
    "print(\"most preferred orientation(s):\")\n",
    "for orientation in sorted(VISp_cells_with_numbers[\"pref_ori_sg\"].unique()):\n",
    "    if(((len(VISp_cells_with_numbers[VISp_cells_with_numbers[\"pref_ori_sg\"]==orientation])))==max_ori_sg):\n",
    "        print (str(orientation) + \" degrees\")"
   ]
  },
  {
   "cell_type": "code",
   "execution_count": null,
   "metadata": {
    "collapsed": false
   },
   "outputs": [],
   "source": []
  },
  {
   "cell_type": "code",
   "execution_count": null,
   "metadata": {
    "collapsed": false
   },
   "outputs": [],
   "source": []
  },
  {
   "cell_type": "code",
   "execution_count": null,
   "metadata": {
    "collapsed": true
   },
   "outputs": [],
   "source": []
  }
 ],
 "metadata": {
  "anaconda-cloud": {},
  "kernelspec": {
   "display_name": "Python [Root]",
   "language": "python",
   "name": "Python [Root]"
  },
  "language_info": {
   "codemirror_mode": {
    "name": "ipython",
    "version": 2
   },
   "file_extension": ".py",
   "mimetype": "text/x-python",
   "name": "python",
   "nbconvert_exporter": "python",
   "pygments_lexer": "ipython2",
   "version": "2.7.12"
  }
 },
 "nbformat": 4,
 "nbformat_minor": 0
}
