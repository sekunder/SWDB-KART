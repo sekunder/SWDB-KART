{
 "cells": [
  {
   "cell_type": "code",
   "execution_count": null,
   "metadata": {
    "collapsed": true
   },
   "outputs": [],
   "source": [
    " '''this code applys a fourier transform to images and provides back\n",
    "a 2d fourier transform and a 1d power spectrum of spacial frequencies '''"
   ]
  },
  {
   "cell_type": "code",
   "execution_count": null,
   "metadata": {
    "collapsed": true
   },
   "outputs": [],
   "source": [
    "#gettin dem packages\n",
    "import numpy as np\n",
    "%matplotlib inline\n",
    "import matplotlib.pyplot as plt\n",
    "import radialProfile"
   ]
  },
  {
   "cell_type": "code",
   "execution_count": null,
   "metadata": {
    "collapsed": true
   },
   "outputs": [],
   "source": [
    "#set your drive path\n",
    "drive_path = 'e:/'"
   ]
  },
  {
   "cell_type": "code",
   "execution_count": null,
   "metadata": {
    "collapsed": true
   },
   "outputs": [],
   "source": [
    "# importing relevant allen institute stuffs\n",
    "from allensdk.core.brain_observatory_cache import BrainObservatoryCache\n",
    "import pprint\n",
    "boc = BrainObservatoryCache(manifest_file=\"E:\\BrainObservatory\\manifest.json\")"
   ]
  },
  {
   "cell_type": "code",
   "execution_count": null,
   "metadata": {
    "collapsed": true
   },
   "outputs": [],
   "source": [
    "# retrieving natural images\n",
    "boc.get_ophys_experiments(stimuli= [\"natural_scenes\"])[0]\n",
    "data_set = boc.get_ophys_experiment_data(506278598)\n",
    "natural_scenes = data_set.get_stimulus_template(\"natural_scenes\")"
   ]
  },
  {
   "cell_type": "code",
   "execution_count": null,
   "metadata": {
    "collapsed": true
   },
   "outputs": [],
   "source": [
    "#defining the fourier transform function\n",
    "def image_fourier(image):\n",
    "    F1 = np.fft.fft2(image - np.mean(image)) # Calculatin' a 2D power spectrum\n",
    "    F2 = np.fft.fftshift( F1 ) # shift quadrants so low spatial frequencies are center of 2D fourier transformed image.\n",
    "    psd2D = np.abs( F1 )**2 \n",
    "    psd1D = radialProfile.azimuthalAverage(psd2D) # Calculate the azimuthally averaged 1D power spectrum\n",
    "    img1 = np.abs( F2 )**2\n",
    "    img2 = (psd1D[::-1])\n",
    "    return (img1, img2)"
   ]
  },
  {
   "cell_type": "code",
   "execution_count": null,
   "metadata": {
    "collapsed": false
   },
   "outputs": [],
   "source": [
    "#applying the tranform to a directory/array of images and getting a dictonary of results back\n",
    "def batch_fourier(empty_dictionary, image_array):\n",
    "    for i in range(image_array.shape[0]): \n",
    "        tmp = {}\n",
    "        image = natural_scenes[i,:,:]\n",
    "        img1, img2 = image_fourier(image)\n",
    "        empty_dictionary[i] = {\n",
    "            'fourier_trans_2d': img1,\n",
    "            'power_spec': img2,   \n",
    "        }\n",
    "    #the units are cycles per image"
   ]
  },
  {
   "cell_type": "code",
   "execution_count": null,
   "metadata": {
    "collapsed": true
   },
   "outputs": [],
   "source": [
    "trans_ns = {}#this is a dictionary- you can change the name of the dictonary if you wish"
   ]
  },
  {
   "cell_type": "code",
   "execution_count": null,
   "metadata": {
    "collapsed": false
   },
   "outputs": [],
   "source": [
    "batch_fourier(trans_ns,natural_scenes)"
   ]
  },
  {
   "cell_type": "code",
   "execution_count": null,
   "metadata": {
    "collapsed": true
   },
   "outputs": [],
   "source": [
    "'''\n",
    "here is how you can retrieve a single item in this dictonary\n",
    "[image, fourier transformed 2d image, power spectrum of spacial frequency]\n",
    "\n",
    "power_spec is 1d so use: \n",
    "plt.semilogy(image_transforms[image/index][\"power_spec\"])\n",
    "\n",
    "for the image or the 2d fourier transform use: \n",
    "plt.imshow(np.log10(dictonary name[image/index][\"fourier_trans_2d\"]))\n",
    "\n",
    "'''"
   ]
  },
  {
   "cell_type": "code",
   "execution_count": null,
   "metadata": {
    "collapsed": false
   },
   "outputs": [],
   "source": [
    "plt.imshow(np.log10(trans_ns[25][\"fourier_trans_2d\"]))"
   ]
  },
  {
   "cell_type": "code",
   "execution_count": null,
   "metadata": {
    "collapsed": false
   },
   "outputs": [],
   "source": [
    "plt.plot(np.log10(trans_ns[25][\"power_spec\"]))"
   ]
  },
  {
   "cell_type": "code",
   "execution_count": null,
   "metadata": {
    "collapsed": true
   },
   "outputs": [],
   "source": []
  }
 ],
 "metadata": {
  "anaconda-cloud": {},
  "kernelspec": {
   "display_name": "Python [Root]",
   "language": "python",
   "name": "Python [Root]"
  },
  "language_info": {
   "codemirror_mode": {
    "name": "ipython",
    "version": 2
   },
   "file_extension": ".py",
   "mimetype": "text/x-python",
   "name": "python",
   "nbconvert_exporter": "python",
   "pygments_lexer": "ipython2",
   "version": "2.7.12"
  }
 },
 "nbformat": 4,
 "nbformat_minor": 0
}
