{
 "cells": [
  {
   "cell_type": "code",
   "execution_count": 1,
   "metadata": {
    "collapsed": false
   },
   "outputs": [],
   "source": [
    "import pandas as pd\n",
    "from data_preprocessing import BOC_init\n",
    "\n",
    "boc, x, y = BOC_init() \n",
    "    \n",
    "def get_container_id(cell_specimen_id):\n",
    "    \"\"\"This function takes a cell specimen id and returns the experiment container it is in\"\"\"\n",
    "    selectivity_S_df = x\n",
    "    cell_record=selectivity_S_df.loc[selectivity_S_df['cell_specimen_id']==cell_specimen_id]\n",
    "    exp_container_id=cell_record.iloc[0]['experiment_container_id']\n",
    "    return(exp_container_id)\n",
    "\n",
    "def get_session_id(exp_container_id, letter):\n",
    "    sessiontype=['three_session_'+str(letter)]\n",
    "    session_data=pd.DataFrame(boc.get_ophys_experiments(experiment_container_ids=[exp_container_id], session_types=sessiontype))\n",
    "    session_id=session_data['id'][0]\n",
    "    return(session_id, session_data)\n",
    "\n",
    "# In[]\n",
    "#this section is a testing section. for cell_specimen_id  517510587, \n",
    "#get_container_id should return 511510855 \n",
    "#get_session_id should return 510705057 (for session B)  \n",
    "#if __name__ == '__main__' :    \n",
    "#    exp_container_id = get_container_id(517510587)\n",
    "#    print(exp_container_id)\n",
    "#    print(get_session_id(exp_container_id, 'B'))\n",
    "    \n",
    "import h5py\n",
    "import pandas as pd\n",
    "import matplotlib.pyplot as plt\n",
    "import os\n",
    "import numpy as np\n",
    "from allensdk.core.brain_observatory_cache import BrainObservatoryCache\n",
    "drive_path='d:'\n",
    "manifest_path = os.path.join(drive_path,'BrainObservatory/manifest.json')\n",
    "boc = BrainObservatoryCache(manifest_file=manifest_path)\n",
    "\n",
    "\n",
    "def open_h5_file(cell_specimen_id, drive_path, letter):\n",
    "    exp_container_id = get_container_id(cell_specimen_id)\n",
    "    session_id, session_data = get_session_id(exp_container_id, letter)\n",
    "    path = drive_path + '/BrainObservatory/ophys_analysis/' + str(session_id) + '_three_session_B_analysis.h5'\n",
    "    f = h5py.File(path, 'r')\n",
    "    response = f['analysis']['response_ns'].value\n",
    "    f.close()\n",
    "    mean_sweep_response=pd.read_hdf(path, 'analysis/mean_sweep_response_ns')\n",
    "    sweep_response = pd.read_hdf(path, 'analysis/sweep_response_ns')\n",
    "    return(response, mean_sweep_response, sweep_response, exp_container_id, session_id, session_data)\n",
    "\n",
    "def hist_single_cell(cell_specimen_id, drive_path, letter, bins):\n",
    "    response, mean_sweep_response, sweep_response, exp_container_id, session_id, session_data = open_h5_file(cell_specimen_id, drive_path, letter)\n",
    "    data_set = boc.get_ophys_experiment_data(ophys_experiment_id = session_data.id.values[0])\n",
    "    cell_specimen_ids = data_set.get_cell_specimen_ids()    \n",
    "    cell_idx=np.where(cell_specimen_ids==cell_specimen_id)[0][0]\n",
    "    cell_series = mean_sweep_response.iloc[:, cell_idx]     \n",
    "    plt.hist(cell_series, bins=bins)\n",
    "\n",
    "# In[]\n",
    "#this is test code. Should return a histogram that looks like a nice histogram with a long tail.\n",
    "#if __name__ == '__main__' : \n",
    "#    print(hist_single_cell(517510587, 'd:', 'B', 1000)) "
   ]
  },
  {
   "cell_type": "code",
   "execution_count": 3,
   "metadata": {
    "collapsed": false
   },
   "outputs": [
    {
     "name": "stdout",
     "output_type": "stream",
     "text": [
      "None\n"
     ]
    },
    {
     "data": {
      "image/png": "[encoded data removed]",
      "text/plain": [
       "<matplotlib.figure.Figure at 0x232d42b0>"
      ]
     },
     "metadata": {},
     "output_type": "display_data"
    }
   ],
   "source": [
    "%matplotlib inline\n",
    "print(hist_single_cell(517510587, 'd:', 'B', 1000)) "
   ]
  },
  {
   "cell_type": "code",
   "execution_count": null,
   "metadata": {
    "collapsed": true
   },
   "outputs": [],
   "source": []
  }
 ],
 "metadata": {
  "anaconda-cloud": {},
  "kernelspec": {
   "display_name": "Python [Root]",
   "language": "python",
   "name": "Python [Root]"
  },
  "language_info": {
   "codemirror_mode": {
    "name": "ipython",
    "version": 2
   },
   "file_extension": ".py",
   "mimetype": "text/x-python",
   "name": "python",
   "nbconvert_exporter": "python",
   "pygments_lexer": "ipython2",
   "version": "2.7.12"
  }
 },
 "nbformat": 4,
 "nbformat_minor": 0
}
