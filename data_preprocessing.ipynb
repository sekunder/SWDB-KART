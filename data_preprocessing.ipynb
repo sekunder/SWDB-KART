{
 "cells": [
  {
   "cell_type": "code",
   "execution_count": 5,
   "metadata": {
    "collapsed": false
   },
   "outputs": [],
   "source": [
    "# WARNING! Be sure to change the line that reads the .csv file, below, should be line 47\n",
    "# If it doesn't work, you'll need to make the path point to your copy of that file (which should be in this folder)\n",
    "\n",
    "# We need to import these modules to get started\n",
    "import numpy as np\n",
    "import pandas as pd\n",
    "import os\n",
    "import sys\n",
    "import matplotlib.pyplot as plt\n",
    "from allensdk.core.brain_observatory_cache import BrainObservatoryCache\n",
    "\n",
    "# The dynamic brain database is on an external hard drive.\n",
    "#drive_path = '/Volumes/Brain2016'\n",
    "drive_path= 'd:'\n",
    "manifest_path = os.path.join(drive_path, 'BrainObservatory/manifest.json')\n",
    "boc = BrainObservatoryCache(manifest_file=manifest_path)\n",
    "expt_containers = boc.get_experiment_containers()\n",
    "\n",
    "# Things I will want eventually:\n",
    "# 1. A dataframe with columns for...\n",
    "#\ta. all the identifiers from the brain observatory\n",
    "#\tb. the preferred directions from the grating and place field stimuli\n",
    "# 2. A numpy array which is N_neurons x N_timesamples, where entry i,j is 1 or 0 based on whether\n",
    "#\t the neuron was \"firing\" at that point (how we decide that we'll get to later\n",
    "\n",
    "# Data frames first:\n",
    "# expt_containers_df = pd.DataFrame(expt_containers)\n",
    "\n",
    "# The stimuli I'm interested in are basically everything except the natural movie and natural scenes\n",
    "# If we want other stimuli, add them here.\n",
    "non_movie_stimuli = ['drifting_gratings', 'locally_sparse_noise', 'spontaneous', 'static_gratings']\n",
    "\n",
    "all_expts_df = pd.DataFrame(boc.get_ophys_experiments(stimuli=non_movie_stimuli))\n",
    "# this has headers:\n",
    "# age_days\tcre_line\texperiment_container_id\tid\timaging_depth\tsession_type\ttargeted_structure\n",
    "\n",
    "# seems like I can use get_cell_speciments to get everything I'm after\n",
    "specimens_df = pd.DataFrame(boc.get_cell_specimens(experiment_container_ids=all_expts_df.experiment_container_id.values))\n",
    "# this has headers:\n",
    "# area\tcell_specimen_id\tdsi_dg\texperiment_container_id\timaging_depth\tosi_dg\tosi_sg\tp_dg\tp_ns\tp_sg\n",
    "# pref_dir_dg\tpref_image_ns\tpref_ori_sg\tpref_phase_sg\tpref_sf_sg\tpref_tf_dg\ttime_to_peak_ns\ttime_to_peak_sg\n",
    "# tld1_id\ttld1_name\ttld2_id\ttld2_name\ttlr1_id\ttlr1_name\n",
    "\n",
    "# There's also a handy bit of data from Saskia, in the form of a measurement called S. See\n",
    "# Decoding Visual Inputs From Multiple Neurons in the Human Temporal Lobe, J. Neurophys 2007, by Quiroga et al\n",
    "\n",
    "\n",
    "selectivity_S_df = pd.read_csv(os.path.join(drive_path, '/BrainObservatory/image_selectivity_dataframe.csv'), index_col=0)\n",
    "selectivity_S_df = selectivity_S_df[['cell_specimen_id', 'selectivity_ns']]\n",
    "\n",
    "specimens_with_selectivity_S = specimens_df.merge(selectivity_S_df,how='outer', on='cell_specimen_id')\n",
    "\n",
    "# This is all cells in VISp that have a value for the specified parameters (i.e not NaN)\n",
    "# Discards rows NaN in the columns specified below.\n",
    "discard_nan = [\n",
    "\t'selectivity_ns',\n",
    "\t'osi_sg',\n",
    "\t'osi_dg',\n",
    "\t'time_to_peak_ns',\n",
    "\t'time_to_peak_sg',\n",
    "]\n",
    "VISp_cells_with_numbers = specimens_with_selectivity_S[specimens_with_selectivity_S.area == 'VISp']\n",
    "for col_name in discard_nan:\n",
    "\tVISp_cells_with_numbers = VISp_cells_with_numbers[np.isnan(VISp_cells_with_numbers[col_name])==False]"
   ]
  },
  {
   "cell_type": "code",
   "execution_count": null,
   "metadata": {
    "collapsed": true
   },
   "outputs": [],
   "source": []
  },
  {
   "cell_type": "code",
   "execution_count": null,
   "metadata": {
    "collapsed": true
   },
   "outputs": [],
   "source": []
  }
 ],
 "metadata": {
  "anaconda-cloud": {},
  "kernelspec": {
   "display_name": "Python [Root]",
   "language": "python",
   "name": "Python [Root]"
  },
  "language_info": {
   "codemirror_mode": {
    "name": "ipython",
    "version": 2
   },
   "file_extension": ".py",
   "mimetype": "text/x-python",
   "name": "python",
   "nbconvert_exporter": "python",
   "pygments_lexer": "ipython2",
   "version": "2.7.12"
  }
 },
 "nbformat": 4,
 "nbformat_minor": 0
}
