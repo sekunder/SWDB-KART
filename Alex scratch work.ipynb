{
 "cells": [
  {
   "cell_type": "code",
   "execution_count": 1,
   "metadata": {
    "collapsed": true
   },
   "outputs": [],
   "source": [
    "import numpy as np\n",
    "from scipy.ndimage import imread\n",
    "import matplotlib.pyplot as plt\n",
    "import fourier_transform as ft\n",
    "import seaborn as sns\n",
    "from scipy import fftpack\n",
    "% matplotlib inline"
   ]
  },
  {
   "cell_type": "code",
   "execution_count": 2,
   "metadata": {
    "collapsed": false
   },
   "outputs": [],
   "source": [
    "sns.set_context(\"notebook\",font_scale=1.5)"
   ]
  },
  {
   "cell_type": "markdown",
   "metadata": {},
   "source": [
    "## Working on orientation"
   ]
  },
  {
   "cell_type": "code",
   "execution_count": 29,
   "metadata": {
    "collapsed": false
   },
   "outputs": [
    {
     "name": "stdout",
     "output_type": "stream",
     "text": [
      "We got 118 sweet images!\n"
     ]
    }
   ],
   "source": [
    "# sweet_image_descriptions = {\n",
    "# #                 31:\"oregon trail\",\n",
    "# # #                 33:\"puppies!\",\n",
    "# # #                 55:\"caw caw, motherfucker\",\n",
    "# # #                 57:\"ugly duck\",\n",
    "# # #                 81:\"wood paneling\",\n",
    "# # #                 113:\"pencils vertical\",\n",
    "# # #                 114:\"pencils horizontal\",\n",
    "# # #                 115:\"georgia o'keefe\",\n",
    "# #                 85:\"actually windows\",\n",
    "# # #                 88:\"crappy leaves\",\n",
    "# #                 86:\"windows 1\",\n",
    "#                 87:\"leaves\",\n",
    "#                 }\n",
    "\n",
    "sweet_image_descriptions = { n : \"Natural Scene \" + str(n) for n in range(118)}\n",
    "\n",
    "sweet_images = [\n",
    "    {\"id\" : img_id,\n",
    "     \"description\" : description,\n",
    "     \"image\" : imread('/Users/sekunder/python/SWDB/SWDB-KART/images/NS_stimulus_images/NS_' + str(img_id) + '.png',\n",
    "                      flatten = True)\n",
    "    } for img_id,description in sweet_image_descriptions.items()]\n",
    "sweet_images.sort(key=lambda x : x[\"id\"])\n",
    "\n",
    "print('We got ' + str(len(sweet_images)) + ' sweet images!')"
   ]
  },
  {
   "cell_type": "code",
   "execution_count": 31,
   "metadata": {
    "collapsed": false
   },
   "outputs": [],
   "source": [
    "# pct_trials = [0.01, 0.03, 0.05, 0.07, 0.09]\n",
    "pct_trials = [\n",
    "#     0.01,\n",
    "#     0.05,\n",
    "    0.07\n",
    "#     0.1,\n",
    "]\n",
    "num_pie_slices = 72\n",
    "theta = [2 * n * np.pi / num_pie_slices for n in range(num_pie_slices)]\n",
    "# pct = 0.05\n",
    "for pct in pct_trials:\n",
    "    pct_str = str(int(pct*100))\n",
    "    for d in sweet_images:\n",
    "        shifted_img, log_fft_img = ft.log_fourier_transform(d[\"image\"])\n",
    "        d[\"log_fft_image\"] = log_fft_img\n",
    "\n",
    "        fig = plt.figure(figsize=(12,10))\n",
    "\n",
    "        a = fig.add_subplot(2,2,1)\n",
    "        plt.title(d[\"description\"])\n",
    "        plt.imshow(shifted_img,cmap='gray',interpolation='nearest')\n",
    "        plt.axis('off')\n",
    "        \n",
    "        a = fig.add_subplot(2,2,2)\n",
    "        im = a.imshow(log_fft_img,interpolation='nearest',cmap='jet')\n",
    "        plt.colorbar(im, fraction=0.03, pad=0.04)\n",
    "        plt.title(\"Fourier Transform\")\n",
    "        plt.axis('off')\n",
    "\n",
    "        # now the big guns:\n",
    "        # get the raw fourier transformed image:\n",
    "        fft_raw = np.abs(fftpack.fftshift(fftpack.fft2(shifted_img)))\n",
    "        threshold = pct * np.max(fft_raw)\n",
    "        (x,y) = np.where(fft_raw > threshold)\n",
    "        fft_threshold = fft_raw * (fft_raw > threshold)\n",
    "\n",
    "        a = fig.add_subplot(2,2,3)\n",
    "        plt.title(\"FFT, thresholded above \" + pct_str + \"% of peak\")\n",
    "        im = plt.imshow(fft_threshold[np.min(x)-10:np.max(x)+10,np.min(y)-10:np.max(y)+10],interpolation='nearest',cmap='jet')\n",
    "        plt.colorbar(im, fraction=0.046, pad=0.04)\n",
    "        plt.axis('off')\n",
    "        \n",
    "        a = fig.add_subplot(2,2,4)\n",
    "        M,N = fft_raw.shape\n",
    "        x_0,y_0 = float(M)/2, float(N)/2\n",
    "        r = np.hypot(x_0 - np.min(x), y_0 - np.min(y)) #overshooting a bit but that's ok.\n",
    "        theta_arr,intensity = ft.radial_image_intensity(log_fft_img, x_0, y_0, r, theta, num_interp_points=1000)\n",
    "        coarse_theta,coarse_intensity = ft.radial_image_intensity(log_fft_img, x_0, y_0, r, num_interp_points=1000)\n",
    "        \n",
    "        plt.title(\"Orientation profile\")\n",
    "        a.plot([t * 180/np.pi for t in theta_arr],intensity)\n",
    "        a.scatter([t * 180/np.pi for t in coarse_theta],coarse_intensity)\n",
    "        plt.xlabel('Orientation')\n",
    "        plt.ylabel('Avg. intensity around center')\n",
    "        plt.xlim(0,180)\n",
    "        plt.tight_layout()\n",
    "        \n",
    "        fig.savefig('/Users/sekunder/python/SWDB/SWDB-KART/images/NS_orientation_profiles/NS_' + str(d['id']) + '_orientation_profile.png')\n",
    "        \n",
    "        plt.close(fig)\n",
    "\n",
    "#         d[\"orientation \" + pct_str + \"%\"] = ft.image_orientation(d[\"image\"],fraction_of_peak=pct,degrees=True)\n",
    "#         print('Orientation of ' + d[\"description\"] + ', computed using ' + pct_str + '% threshold:' + str(d[\"orientation \" + pct_str + \"%\"]) + ' degrees')\n",
    "# for pct in pct_trials:\n",
    "#     print('Orientation of ' + v_pencils_dict[\"description\"] + ', computed using ' + str(int(100*pct)) + '% threshold: ' + str(v_pencils_dict[\"orientation \" + str(pct)]))\n",
    "#     print('Orientation of ' + h_pencils_dict[\"description\"] + ', computed using ' + str(int(100*pct)) + '% threshold: ' + str(h_pencils_dict[\"orientation \" + str(pct)]))"
   ]
  },
  {
   "cell_type": "code",
   "execution_count": 27,
   "metadata": {
    "collapsed": true
   },
   "outputs": [],
   "source": [
    "plt.close(\"all\")"
   ]
  },
  {
   "cell_type": "markdown",
   "metadata": {},
   "source": [
    "## static grating"
   ]
  },
  {
   "cell_type": "code",
   "execution_count": 3,
   "metadata": {
    "collapsed": true
   },
   "outputs": [],
   "source": [
    "# indices go: orientation, spatial frequency, phase, image x, image y\n",
    "sg_images = np.load('/Volumes/RUGGEDKEY/sg_image.npy')"
   ]
  },
  {
   "cell_type": "code",
   "execution_count": 4,
   "metadata": {
    "collapsed": false
   },
   "outputs": [
    {
     "data": {
      "text/plain": [
       "(6, 5, 4, 918, 1174)"
      ]
     },
     "execution_count": 4,
     "metadata": {},
     "output_type": "execute_result"
    }
   ],
   "source": [
    "sg_images.shape"
   ]
  },
  {
   "cell_type": "code",
   "execution_count": 5,
   "metadata": {
    "collapsed": false
   },
   "outputs": [
    {
     "data": {
      "text/plain": [
       "(-0.5, 1173.5, 917.5, -0.5)"
      ]
     },
     "execution_count": 5,
     "metadata": {},
     "output_type": "execute_result"
    },
    {
     "data": {
      "image/png": "[encoded data removed]",
      "text/plain": [
       "<matplotlib.figure.Figure at 0x1173d44d0>"
      ]
     },
     "metadata": {},
     "output_type": "display_data"
    }
   ],
   "source": [
    "plt.imshow(sg_images[0,1,1,:,:],interpolation='nearest',cmap='gray')\n",
    "plt.axis('off')"
   ]
  },
  {
   "cell_type": "code",
   "execution_count": 10,
   "metadata": {
    "collapsed": false
   },
   "outputs": [
    {
     "data": {
      "image/png": "[encoded data removed]",
      "text/plain": [
       "<matplotlib.figure.Figure at 0x164273c90>"
      ]
     },
     "metadata": {},
     "output_type": "display_data"
    }
   ],
   "source": [
    "horiz_static_grating = sg_images[0,1,1,:,:]\n",
    "str_id = '011'\n",
    "pct = 0.07\n",
    "pct_str = \"7\"\n",
    "num_pie_slices = 72\n",
    "theta = [2 * n * np.pi / num_pie_slices for n in range(num_pie_slices)]\n",
    "\n",
    "shifted_img, log_fft_img = ft.log_fourier_transform(horiz_static_grating)\n",
    "\n",
    "fig = plt.figure(figsize=(12,10))\n",
    "\n",
    "a = fig.add_subplot(2,2,1)\n",
    "plt.title(\"Static Grating\")\n",
    "plt.imshow(horiz_static_grating,cmap='gray',interpolation='nearest')\n",
    "plt.axis('off')\n",
    "\n",
    "a = fig.add_subplot(2,2,2)\n",
    "im = a.imshow(log_fft_img,interpolation='nearest',cmap='jet')\n",
    "plt.colorbar(im, fraction=0.03, pad=0.04)\n",
    "plt.title(\"Fourier Transform\")\n",
    "plt.axis('off')\n",
    "\n",
    "# now the big guns:\n",
    "# get the raw fourier transformed image:\n",
    "fft_raw = np.abs(fftpack.fftshift(fftpack.fft2(shifted_img)))\n",
    "threshold = pct * np.max(fft_raw)\n",
    "(x,y) = np.where(fft_raw > threshold)\n",
    "fft_threshold = fft_raw * (fft_raw > threshold)\n",
    "\n",
    "a = fig.add_subplot(2,2,3)\n",
    "plt.title(\"FFT, thresholded above \" + pct_str + \"% of peak\")\n",
    "im = plt.imshow(fft_threshold[np.min(x)-10:np.max(x)+10,np.min(y)-10:np.max(y)+10],interpolation='nearest',cmap='jet')\n",
    "plt.colorbar(im, fraction=0.046, pad=0.04)\n",
    "plt.axis('off')\n",
    "\n",
    "a = fig.add_subplot(2,2,4)\n",
    "M,N = fft_raw.shape\n",
    "x_0,y_0 = float(M)/2, float(N)/2\n",
    "r = np.hypot(x_0 - np.min(x), y_0 - np.min(y)) #overshooting a bit but that's ok.\n",
    "theta_arr,intensity = ft.radial_image_intensity(log_fft_img, x_0, y_0, r, theta, num_interp_points=1000)\n",
    "coarse_theta,coarse_intensity = ft.radial_image_intensity(log_fft_img, x_0, y_0, r, num_interp_points=1000)\n",
    "\n",
    "plt.title(\"Orientation profile\")\n",
    "a.plot([t * 180/np.pi for t in theta_arr],intensity)\n",
    "a.scatter([t * 180/np.pi for t in coarse_theta],coarse_intensity)\n",
    "plt.xlabel('Orientation')\n",
    "plt.ylabel('Avg. intensity around center')\n",
    "plt.xlim(0,180)\n",
    "plt.tight_layout()\n",
    "\n",
    "fig.savefig('/Users/sekunder/python/SWDB/SWDB-KART/images/SG_orienation_profiles/SG_' + str_id + '_orientation_profile.png')\n",
    "\n",
    "# plt.close(fig)"
   ]
  },
  {
   "cell_type": "markdown",
   "metadata": {},
   "source": [
    "## Scratchwork, getting fourier transform in a useable state"
   ]
  },
  {
   "cell_type": "code",
   "execution_count": null,
   "metadata": {
    "collapsed": false
   },
   "outputs": [],
   "source": [
    "BEARSBEARSBEARS = imread('/Users/sekunder/python/SWDB/SWDB-KART/images/NS_stimulus_images/NS_0.png',flatten=True)\n",
    "print(BEARSBEARSBEARS.shape)\n",
    "plt.imshow(BEARSBEARSBEARS,cmap='gray',interpolation='nearest')"
   ]
  },
  {
   "cell_type": "code",
   "execution_count": null,
   "metadata": {
    "collapsed": false
   },
   "outputs": [],
   "source": [
    "BEARS_reduced = BEARSBEARSBEARS - np.mean(BEARSBEARSBEARS[:])\n",
    "FFT_Bears = fftpack.fft2(BEARS_reduced)\n",
    "FFT_shifted_Bears = np.abs(fftpack.fftshift(FFT_Bears))\n",
    "\n",
    "max_magnitude = np.max(FFT_shifted_Bears)\n",
    "print('max magnitude:',max_magnitude)\n",
    "plt.figure()\n",
    "plt.imshow(np.log(FFT_shifted_Bears))\n",
    "\n",
    "percent = 0.08\n",
    "theta = percent*max_magnitude\n",
    "print('5% threshold:',theta)\n",
    "FFT_thresholded = FFT_shifted_Bears * (FFT_shifted_Bears > theta)\n",
    "\n",
    "(x,y) = np.where(FFT_shifted_Bears > theta)\n",
    "\n",
    "plt.figure()\n",
    "plt.imshow(FFT_thresholded[np.min(x)-10:np.max(x)+10,np.min(y)-10:np.max(y)+10],interpolation='nearest')\n",
    "plt.colorbar()"
   ]
  },
  {
   "cell_type": "code",
   "execution_count": null,
   "metadata": {
    "collapsed": false
   },
   "outputs": [],
   "source": [
    "logbears,FFTbears, bear_spectrum = ft.log_fourier_transform(BEARSBEARSBEARS)\n",
    "plt.figure()\n",
    "plt.imshow(BEARSBEARSBEARS,cmap='gray')\n",
    "plt.figure()\n",
    "plt.imshow(logbears,cmap='gray')\n",
    "plt.figure()\n",
    "plt.imshow(FFTbears)\n",
    "# ax[0].title('BEARS BEARS BEARS')\n",
    "# ax[1].imshow(logbears)"
   ]
  },
  {
   "cell_type": "markdown",
   "metadata": {},
   "source": [
    "## Misc scratchwork"
   ]
  },
  {
   "cell_type": "code",
   "execution_count": null,
   "metadata": {
    "collapsed": false
   },
   "outputs": [],
   "source": [
    "a = np.asarray([(1,2,3),(8,9,10)])\n",
    "a[np.asarray([0,1,0]),np.asarray([1,2,2])]"
   ]
  },
  {
   "cell_type": "code",
   "execution_count": null,
   "metadata": {
    "collapsed": false
   },
   "outputs": [],
   "source": [
    "a.astype"
   ]
  },
  {
   "cell_type": "code",
   "execution_count": null,
   "metadata": {
    "collapsed": false
   },
   "outputs": [],
   "source": [
    "x, y = np.mgrid[-5:5:0.1, -5:5:0.1]\n",
    "x0, y0 = 5, 4.5 # These are in _pixel_ coordinates!!\n",
    "x1, y1 = 60, 75\n",
    "z = np.sqrt(x**2 + y**2) + np.sin(x**2 + y**2)\n",
    "interp_pixels,ds = ft.interpolated_pixels(z, x0,y0, x1,y1, num_steps=100)\n",
    "fig, axes = plt.subplots(nrows=2)\n",
    "axes[0].imshow(z)\n",
    "axes[0].plot([x0, x1], [y0, y1], 'ro-')\n",
    "axes[0].axis('image')\n",
    "\n",
    "d = np.hypot(x1-x0, y1-y0)\n",
    "axes[1].plot(np.linspace(0,d,100),interp_pixels)\n",
    "axes[1].bar(np.linspace(0,d,100),interp_pixels,width=ds)\n"
   ]
  },
  {
   "cell_type": "code",
   "execution_count": null,
   "metadata": {
    "collapsed": true
   },
   "outputs": [],
   "source": [
    "axes[1].bar"
   ]
  },
  {
   "cell_type": "code",
   "execution_count": null,
   "metadata": {
    "collapsed": false
   },
   "outputs": [],
   "source": [
    "range(1,2.3,1)"
   ]
  },
  {
   "cell_type": "code",
   "execution_count": null,
   "metadata": {
    "collapsed": false
   },
   "outputs": [],
   "source": [
    "ft.interpolate_pixels_along_line(0,0,5,5)"
   ]
  },
  {
   "cell_type": "code",
   "execution_count": null,
   "metadata": {
    "collapsed": true
   },
   "outputs": [],
   "source": [
    "# Saving this for latter:\n",
    "# def image_line_segment_integral(image, x_0, y_0, x_1, y_1):\n",
    "# \t\"\"\"computes the integral over the line segment from (x_0,y_0) to (x_1,y_1) of the piecewise-constant function defined by image.\"\"\"\n",
    "# \tsteep = np.abs(y_1 - y_0) > np.abs(x_1 - x_0)\n",
    "# \tm = (y_1 - y_0) / (x_1 - x_0)\n",
    "# \tb = y_0 / (m * x_0)\n",
    "# \tx_asc = x_1 >= x_0; y_asc = y_1 >= y_0\n",
    "# \tif steep:\n",
    "# \t\tif y_asc:\n",
    "# \t\t\ty_range = range(np.ceil(y_0),np.floor(y_1),1)\n",
    "# \t\t\tif y_0 != np.ceil(y_0):\n",
    "# \t\t\t\ty_range.insert(0,y_0)\n",
    "# \t\t\tif y_1 != np.floor(y_1):\n",
    "# \t\t\t\ty_range.append(y_1)\n",
    "# \t\telse:\n",
    "# \t\t\ty_range = range(np.floor(y_0),np.ceil(y_1),-1)\n",
    "# \t\t\tif y_0 != np.floor(y_0):\n",
    "# \t\t\t\ty_range.insert(0,y_0)\n",
    "# \t\t\tif y_1 != np.ceil(y_1)\n",
    "# \t\t\t\ty_range.append(y_1)\n",
    "# \t\ty_arr = np.asarray(y_range)\n",
    "# \t\tx_arr = (y_arr - b)/m\n",
    "# \n",
    "# \t\tintensities = image[x_arr, y_arr]\n",
    "# \telse:\n",
    "# \t\tpass\n"
   ]
  },
  {
   "cell_type": "code",
   "execution_count": null,
   "metadata": {
    "collapsed": true
   },
   "outputs": [],
   "source": [
    "# something i got from stackoverflow:\n",
    "# def interpolate_pixels_along_line(x0, y0, x1, y1):\n",
    "# \t\"\"\"Uses Xiaolin Wu's line algorithm to interpolate all of the pixels along a\n",
    "# \tstraight line, given two points (x0, y0) and (x1, y1)\n",
    "\n",
    "# \tWikipedia article containing pseudo code that function was based off of:\n",
    "# \t\thttp://en.wikipedia.org/wiki/Xiaolin_Wu's_line_algorithm\n",
    "\n",
    "# \tCopied from http://stackoverflow.com/questions/24702868/python3-pillow-get-all-pixels-on-a-line\n",
    "# \t\"\"\"\n",
    "# \tpixels = []\n",
    "# \tsteep = abs(y1 - y0) > abs(x1 - x0)\n",
    "\n",
    "# \t# Ensure that the path to be interpolated is shallow and from left to right\n",
    "# \tif steep:\n",
    "# \t\tt = x0\n",
    "# \t\tx0 = y0\n",
    "# \t\ty0 = t\n",
    "\n",
    "# \t\tt = x1\n",
    "# \t\tx1 = y1\n",
    "# \t\ty1 = t\n",
    "\n",
    "# \tif x0 > x1:\n",
    "# \t\tt = x0\n",
    "# \t\tx0 = x1\n",
    "# \t\tx1 = t\n",
    "\n",
    "# \t\tt = y0\n",
    "# \t\ty0 = y1\n",
    "# \t\ty1 = t\n",
    "\n",
    "# \tdx = x1 - x0\n",
    "# \tdy = y1 - y0\n",
    "# \tgradient = dy / dx  # slope\n",
    "\n",
    "# \t# Get the first given coordinate and add it to the return list\n",
    "# \tx_end = round(x0)\n",
    "# \ty_end = y0 + (gradient * (x_end - x0))\n",
    "# \txpxl0 = x_end\n",
    "# \typxl0 = round(y_end)\n",
    "# \tif steep:\n",
    "# \t\tpixels.extend([(ypxl0, xpxl0), (ypxl0 + 1, xpxl0)])\n",
    "# \telse:\n",
    "# \t\tpixels.extend([(xpxl0, ypxl0), (xpxl0, ypxl0 + 1)])\n",
    "\n",
    "# \tinterpolated_y = y_end + gradient\n",
    "\n",
    "# \t# Get the second given coordinate to give the main loop a range\n",
    "# \tx_end = round(x1)\n",
    "# \ty_end = y1 + (gradient * (x_end - x1))\n",
    "# \txpxl1 = x_end\n",
    "# \typxl1 = round(y_end)\n",
    "\n",
    "# \t# Loop between the first x coordinate and the second x coordinate, interpolating the y coordinates\n",
    "# \tfor x in range(xpxl0 + 1, xpxl1):\n",
    "# \t\tif steep:\n",
    "# \t\t\tpixels.extend([(math.floor(interpolated_y), x), (math.floor(interpolated_y) + 1, x)])\n",
    "\n",
    "# \t\telse:\n",
    "# \t\t\tpixels.extend([(x, math.floor(interpolated_y)), (x, math.floor(interpolated_y) + 1)])\n",
    "\n",
    "# \t\tinterpolated_y += gradient\n",
    "\n",
    "# \t# Add the second given coordinate to the given list\n",
    "# \tif steep:\n",
    "# \t\tpixels.extend([(ypxl1, xpxl1), (ypxl1 + 1, xpxl1)])\n",
    "# \telse:\n",
    "# \t\tpixels.extend([(xpxl1, ypxl1), (xpxl1, ypxl1 + 1)])\n",
    "\n",
    "# \treturn pixels"
   ]
  }
 ],
 "metadata": {
  "kernelspec": {
   "display_name": "Python [Root]",
   "language": "python",
   "name": "Python [Root]"
  },
  "language_info": {
   "codemirror_mode": {
    "name": "ipython",
    "version": 2
   },
   "file_extension": ".py",
   "mimetype": "text/x-python",
   "name": "python",
   "nbconvert_exporter": "python",
   "pygments_lexer": "ipython2",
   "version": "2.7.12"
  }
 },
 "nbformat": 4,
 "nbformat_minor": 0
}
